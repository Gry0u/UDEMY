{
 "cells": [
  {
   "cell_type": "code",
   "execution_count": 12,
   "metadata": {},
   "outputs": [],
   "source": [
    "from bokeh.plotting import figure\n",
    "from bokeh.io import save, output_file\n",
    "from bokeh.layouts import gridplot\n",
    "from bokeh.models import ColumnDataSource\n",
    "from bokeh.sampledata.periodic_table import elements\n",
    "elements.dropna(inplace=True)\n",
    "\n",
    "# define output file\n",
    "output_file('periodic_table_gridplot.html')\n",
    "\n",
    "# add size column\n",
    "elements['size'] = [x/20 for x in elements['van der Waals radius']]\n",
    "# add color column\n",
    "colormap = {'solid': 'red', 'liquid': 'orange', 'gas': 'yellow'}\n",
    "elements['color'] = [colormap[x] for x in elements['standard state']]\n",
    "\n",
    "# Column Data Source\n",
    "gas = ColumnDataSource(elements[elements['standard state']=='gas'])\n",
    "liquid = ColumnDataSource(elements[elements['standard state']=='liquid'])\n",
    "solid = ColumnDataSource(elements[elements['standard state']=='solid'])\n",
    "\n",
    "# add glyphs\n",
    "graph_list = []\n",
    "for data, name in zip([gas, liquid, solid], ['Gas', 'Liquid', 'Solid']):\n",
    "    f = figure(width=250, plot_height=250, title=name)\n",
    "    f.circle(source=data,\n",
    "             x='atomic radius',\n",
    "             y='boiling point',\n",
    "             size='size',\n",
    "             color='color',\n",
    "             legend=name,\n",
    "             fill_alpha=0.3)\n",
    "    graph_list.append(f)\n",
    "    \n",
    "# gridplot\n",
    "\n",
    "g = gridplot([[graph_list[0], graph_list[1]], [None, graph_list[2]]])\n",
    "   \n",
    "save(g);"
   ]
  },
  {
   "cell_type": "code",
   "execution_count": 6,
   "metadata": {},
   "outputs": [
    {
     "data": {
      "text/plain": [
       "3"
      ]
     },
     "execution_count": 6,
     "metadata": {},
     "output_type": "execute_result"
    }
   ],
   "source": [
    "len(graph_list)"
   ]
  }
 ],
 "metadata": {
  "kernelspec": {
   "display_name": "Python 3",
   "language": "python",
   "name": "python3"
  },
  "language_info": {
   "codemirror_mode": {
    "name": "ipython",
    "version": 3
   },
   "file_extension": ".py",
   "mimetype": "text/x-python",
   "name": "python",
   "nbconvert_exporter": "python",
   "pygments_lexer": "ipython3",
   "version": "3.6.6"
  }
 },
 "nbformat": 4,
 "nbformat_minor": 2
}
