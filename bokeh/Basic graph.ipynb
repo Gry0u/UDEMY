{
 "cells": [
  {
   "cell_type": "code",
   "execution_count": 11,
   "metadata": {},
   "outputs": [
    {
     "data": {
      "text/plain": [
       "'C:\\\\Users\\\\THB0F6\\\\Documents\\\\Data_Analytics\\\\UDEMY\\\\bokeh\\\\line.html'"
      ]
     },
     "execution_count": 11,
     "metadata": {},
     "output_type": "execute_result"
    }
   ],
   "source": [
    "# Making a basic Bokeh Line graph\n",
    "\n",
    "# import\n",
    "from bokeh.plotting import figure # container for everything: points, lines, legend\n",
    "from bokeh.io import output_file, show, save\n",
    "\n",
    "# create fake data\n",
    "x = [1, 2, 3, 4, 5]\n",
    "y = [6, 7, 8, 9, 10]\n",
    "\n",
    "# prepare output file\n",
    "output_file('line.html')\n",
    "\n",
    "# create figure object instance\n",
    "f = figure()\n",
    "\n",
    "# create line plot\n",
    "f.line(x, y)\n",
    "\n",
    "# show figure\n",
    "save(f)"
   ]
  },
  {
   "cell_type": "code",
   "execution_count": 12,
   "metadata": {},
   "outputs": [],
   "source": [
    "# Making a basic Bokeh Line graph\n",
    "\n",
    "# import\n",
    "from bokeh.plotting import figure # container for everything: points, lines, legend\n",
    "from bokeh.io import output_file, show\n",
    "import pandas as pd\n",
    "\n",
    "# read csv\n",
    "df = pd.read_csv('data.csv')\n",
    "x = df['x']\n",
    "y = df['y']\n",
    "\n",
    "# prepare output file\n",
    "output_file('line_from_csv.html')\n",
    "\n",
    "# create figure object instance\n",
    "f = figure()\n",
    "\n",
    "# create line plot\n",
    "f.line(x, y)\n",
    "\n",
    "# show figure\n",
    "save(f);"
   ]
  },
  {
   "cell_type": "code",
   "execution_count": 13,
   "metadata": {},
   "outputs": [],
   "source": [
    "# read csv\n",
    "df = pd.read_csv('bachelors.csv')\n",
    "x = df['Year']\n",
    "y = df['Engineering']\n",
    "\n",
    "output_file('bachelors.html')\n",
    "f = figure()\n",
    "f.line(x, y)\n",
    "save(f);"
   ]
  }
 ],
 "metadata": {
  "kernelspec": {
   "display_name": "Python 3",
   "language": "python",
   "name": "python3"
  },
  "language_info": {
   "codemirror_mode": {
    "name": "ipython",
    "version": 3
   },
   "file_extension": ".py",
   "mimetype": "text/x-python",
   "name": "python",
   "nbconvert_exporter": "python",
   "pygments_lexer": "ipython3",
   "version": "3.7.0"
  }
 },
 "nbformat": 4,
 "nbformat_minor": 2
}
