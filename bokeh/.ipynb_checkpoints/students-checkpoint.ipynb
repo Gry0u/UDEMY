{
 "cells": [
  {
   "cell_type": "code",
   "execution_count": 12,
   "metadata": {},
   "outputs": [],
   "source": [
    "# imports\n",
    "from bokeh.plotting import figure\n",
    "from bokeh.io import output_file, save, show\n",
    "from bokeh.models.annotations import Label, LabelSet\n",
    "from bokeh.models import ColumnDataSource\n",
    "\n",
    "# prepare output\n",
    "output_file('students.html')\n",
    "\n",
    "# create Column Data Source\n",
    "src = ColumnDataSource(dict(average_grades=['B+', 'A-', 'D-'], \n",
    "                            exam_grades=['A+', 'C+', 'D+'],\n",
    "                            student_names=['Jojo', 'Gogo', 'Fanfan']))\n",
    "\n",
    "# create figure object instance\n",
    "f = figure(x_range=['F', 'D-', 'D+', 'C-', 'C+', 'B-', 'B+', 'A-', 'A+'],\n",
    "           y_range=['F', 'D-', 'D+', 'C-', 'C+', 'B-', 'B+', 'A-', 'A+'])\n",
    "\n",
    "# create glyphs\n",
    "f.circle(source=src, x='average_grades', y='exam_grades', size=8)\n",
    "\n",
    "# Add desc labels\n",
    "f.add_layout(Label(x=7,\n",
    "                   y=1,\n",
    "                   text='This graph shows average grades for 3rd grade students',\n",
    "                   render_mode='css'))\n",
    "\n",
    "# Add label for glyphs\n",
    "labels=LabelSet(x='average_grades',\n",
    "                y='exam_grades',\n",
    "                text='student_names',\n",
    "                source=src,\n",
    "                x_offset=5,\n",
    "                y_offset=5)\n",
    "f.add_layout(labels)\n",
    "\n",
    "# save\n",
    "save(f);"
   ]
  }
 ],
 "metadata": {
  "kernelspec": {
   "display_name": "Python 3",
   "language": "python",
   "name": "python3"
  },
  "language_info": {
   "codemirror_mode": {
    "name": "ipython",
    "version": 3
   },
   "file_extension": ".py",
   "mimetype": "text/x-python",
   "name": "python",
   "nbconvert_exporter": "python",
   "pygments_lexer": "ipython3",
   "version": "3.6.6"
  }
 },
 "nbformat": 4,
 "nbformat_minor": 2
}
