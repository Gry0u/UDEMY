{
 "cells": [
  {
   "cell_type": "code",
   "execution_count": 19,
   "metadata": {},
   "outputs": [],
   "source": [
    "from bokeh.io import output_file, save\n",
    "from bokeh.layouts import gridplot\n",
    "from bokeh.plotting import figure\n",
    "from bokeh.models.annotations import Span, BoxAnnotation\n",
    "\n",
    "#file\n",
    "output_file('gridplot.html')\n",
    "\n",
    "# fake data\n",
    "x1, y1 = list(range(0, 10)), list(range(10, 20))\n",
    "x2, y2 = list(range(20, 30)), list(range(30, 40))\n",
    "x3, y3 = list(range(40,50)), list(range(50,60))\n",
    "\n",
    "# 1st plot\n",
    "f1 = figure(width=250, plot_height=250, title='Circles')\n",
    "f1.circle(x=x1, y=y1, color='blue')\n",
    "# 2nd plot\n",
    "f2 = figure(width=250, plot_height=250, title='Triangles')\n",
    "f2.triangle(x=x2, y=y2, color='red')\n",
    "\n",
    "# 1st plot\n",
    "f3 = figure(width=250, plot_height=250, title='Squares')\n",
    "f3.square(x=x3, y=y3, color='green')\n",
    "# define gridplot\n",
    "f = gridplot([[f1, f2], [None, f3]])\n",
    "\n",
    "# create span annotation\n",
    "f1.add_layout(Span(\n",
    "    location=4,\n",
    "    dimension='height',\n",
    "    line_color='orange',\n",
    "    line_width=2))\n",
    "\n",
    "#create box annotation\n",
    "f1.add_layout(BoxAnnotation(\n",
    "    left=2,\n",
    "    right=6, \n",
    "    fill_color='firebrick',\n",
    "    fill_alpha=0.2)) # top, bottom. left, right\n",
    "save(f);"
   ]
  },
  {
   "cell_type": "code",
   "execution_count": 4,
   "metadata": {},
   "outputs": [
    {
     "data": {
      "text/plain": [
       "['__all__',\n",
       " '__builtins__',\n",
       " '__cached__',\n",
       " '__doc__',\n",
       " '__file__',\n",
       " '__loader__',\n",
       " '__name__',\n",
       " '__package__',\n",
       " '__path__',\n",
       " '__spec__',\n",
       " 'absolute_import',\n",
       " 'curdoc',\n",
       " 'division',\n",
       " 'doc',\n",
       " 'export',\n",
       " 'export_png',\n",
       " 'export_svgs',\n",
       " 'install_notebook_hook',\n",
       " 'log',\n",
       " 'logging',\n",
       " 'notebook',\n",
       " 'output',\n",
       " 'output_file',\n",
       " 'output_notebook',\n",
       " 'print_function',\n",
       " 'push_notebook',\n",
       " 'reset_output',\n",
       " 'save',\n",
       " 'saving',\n",
       " 'show',\n",
       " 'showing',\n",
       " 'state',\n",
       " 'unicode_literals',\n",
       " 'util']"
      ]
     },
     "execution_count": 4,
     "metadata": {},
     "output_type": "execute_result"
    }
   ],
   "source": [
    "import bokeh.io\n",
    "dir(bokeh.io)"
   ]
  }
 ],
 "metadata": {
  "kernelspec": {
   "display_name": "Python 3",
   "language": "python",
   "name": "python3"
  },
  "language_info": {
   "codemirror_mode": {
    "name": "ipython",
    "version": 3
   },
   "file_extension": ".py",
   "mimetype": "text/x-python",
   "name": "python",
   "nbconvert_exporter": "python",
   "pygments_lexer": "ipython3",
   "version": "3.6.6"
  }
 },
 "nbformat": 4,
 "nbformat_minor": 2
}
