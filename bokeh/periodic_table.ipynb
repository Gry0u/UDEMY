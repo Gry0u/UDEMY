{
 "cells": [
  {
   "cell_type": "code",
   "execution_count": 9,
   "metadata": {},
   "outputs": [
    {
     "data": {
      "text/plain": [
       "'C:\\\\Users\\\\THB0F6\\\\Documents\\\\Data_Analytics\\\\UDEMY\\\\bokeh\\\\periodic_table.html'"
      ]
     },
     "execution_count": 9,
     "metadata": {},
     "output_type": "execute_result"
    }
   ],
   "source": [
    "from bokeh.plotting import figure\n",
    "from bokeh.io import save, output_file\n",
    "from bokeh.models import ColumnDataSource\n",
    "from bokeh.sampledata.periodic_table import elements\n",
    "from bokeh.models.annotations import Span, BoxAnnotation, Label\n",
    "elements.dropna(inplace=True)\n",
    "\n",
    "# define output file\n",
    "output_file('periodic_table.html')\n",
    "\n",
    "# create figure object instance\n",
    "f = figure()\n",
    "\n",
    "# add size column\n",
    "elements['size'] = [x/10 for x in elements['van der Waals radius']]\n",
    "# add color column\n",
    "colormap = {'solid': 'red', 'liquid': 'orange', 'gas': 'yellow'}\n",
    "elements['color'] = [colormap[x] for x in elements['standard state']]\n",
    "\n",
    "# Column Data Source\n",
    "gas = ColumnDataSource(elements[elements['standard state']=='gas'])\n",
    "liquid = ColumnDataSource(elements[elements['standard state']=='liquid'])\n",
    "solid = ColumnDataSource(elements[elements['standard state']=='solid'])\n",
    "\n",
    "# add glyphs\n",
    "for data, name in zip([gas, liquid, solid], ['Gas', 'Liquid', 'Solid']):\n",
    "    f.circle(source=data,\n",
    "             x='atomic radius',\n",
    "             y='boiling point',\n",
    "             size='size',\n",
    "             color='color',\n",
    "             legend=name,\n",
    "             fill_alpha=0.3)\n",
    "    \n",
    "# Tools\n",
    "f.tools = []\n",
    "f.toolbar.logo = None\n",
    "\n",
    "# Style axes\n",
    "f.xaxis.axis_label = 'Atomic radius'\n",
    "f.yaxis.axis_label = 'Boiling point'\n",
    "\n",
    "# Annotations\n",
    "for pos, color, state in zip(elements.groupby('standard state').mean()['boiling point'].sort_values(ascending=False),\n",
    "                             ['red', 'orange', 'yellow'],\n",
    "                             ['Solid', 'Liquid', 'Gas']):\n",
    "    f.add_layout(Span(location=pos,\n",
    "                      dimension='width',\n",
    "                      line_color=color))\n",
    "    f.add_layout(Label(x=80,\n",
    "                       y=pos + 10,\n",
    "                       text='{} average boiling point'.format(state), \n",
    "                       text_font_size='10px'))\n",
    "\n",
    "save(f)\n"
   ]
  },
  {
   "cell_type": "code",
   "execution_count": 5,
   "metadata": {},
   "outputs": [
    {
     "data": {
      "text/plain": [
       "standard state\n",
       "solid     2017.72\n",
       "liquid     481.00\n",
       "gas        122.75\n",
       "Name: boiling point, dtype: float64"
      ]
     },
     "execution_count": 5,
     "metadata": {},
     "output_type": "execute_result"
    }
   ],
   "source": [
    "elements.groupby('standard state').mean()['boiling point'].sort_values(ascending=False)"
   ]
  }
 ],
 "metadata": {
  "kernelspec": {
   "display_name": "Python 3",
   "language": "python",
   "name": "python3"
  },
  "language_info": {
   "codemirror_mode": {
    "name": "ipython",
    "version": 3
   },
   "file_extension": ".py",
   "mimetype": "text/x-python",
   "name": "python",
   "nbconvert_exporter": "python",
   "pygments_lexer": "ipython3",
   "version": "3.6.6"
  }
 },
 "nbformat": 4,
 "nbformat_minor": 2
}
