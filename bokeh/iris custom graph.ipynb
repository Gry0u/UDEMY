{
 "cells": [
  {
   "cell_type": "markdown",
   "metadata": {},
   "source": [
    "# Plotting flower species"
   ]
  },
  {
   "cell_type": "code",
   "execution_count": 41,
   "metadata": {},
   "outputs": [
    {
     "data": {
      "text/plain": [
       "'/home/gry0u/Learning/UDEMY/bokeh/iris.html'"
      ]
     },
     "execution_count": 41,
     "metadata": {},
     "output_type": "execute_result"
    }
   ],
   "source": [
    "# imports\n",
    "import pandas as pd\n",
    "from bokeh.plotting import figure\n",
    "from bokeh.io import output_file, show, save\n",
    "from bokeh.sampledata.iris import flowers\n",
    "\n",
    "# Define output file\n",
    "output_file('iris.html')\n",
    "\n",
    "# create figure object instance\n",
    "f = figure()\n",
    "\n",
    "# style plot area\n",
    "f.plot_width = 950\n",
    "f.plot_height = 650\n",
    "f.background_fill_color = '#8FFCCA'\n",
    "f.background_fill_alpha = 0.3\n",
    "# f.background_fill_color = (205, 92, 92, 0.3)\n",
    "\n",
    "# add glyphs\n",
    "f.circle(x=flowers['petal_length'], y=flowers['petal_width'])\n",
    "\n",
    "# add title (definition of CSS properties)\n",
    "f.title.text = 'Iris Morphology'\n",
    "f.title.text_color = '#8FFCCA'\n",
    "f.title.text_font = 'times'\n",
    "f.title.text_font_size = '44px'\n",
    "f.title.align = 'center'\n",
    "\n",
    "# style axes\n",
    "f.xaxis.minor_tick_line_color = 'red'\n",
    "f.yaxis.major_label_orientation = 'vertical'\n",
    "f.xaxis.visible = True\n",
    "#f.xaxis.minor_tick_line_color = None\n",
    "f.xaxis.minor_tick_in = 4\n",
    "#f.xaxis.minor_tick_out = 10\n",
    "f.xaxis.axis_label = 'Petal length'\n",
    "f.yaxis.axis_label = 'Petal width'\n",
    "f.axis.axis_label_text_color = 'blue'\n",
    "f.axis.major_label_text_color = 'orange'\n",
    "\n",
    "# save fig\n",
    "save(f)"
   ]
  },
  {
   "cell_type": "code",
   "execution_count": null,
   "metadata": {},
   "outputs": [],
   "source": []
  }
 ],
 "metadata": {
  "kernelspec": {
   "display_name": "Python 3",
   "language": "python",
   "name": "python3"
  },
  "language_info": {
   "codemirror_mode": {
    "name": "ipython",
    "version": 3
   },
   "file_extension": ".py",
   "mimetype": "text/x-python",
   "name": "python",
   "nbconvert_exporter": "python",
   "pygments_lexer": "ipython3",
   "version": "3.7.0"
  }
 },
 "nbformat": 4,
 "nbformat_minor": 2
}
